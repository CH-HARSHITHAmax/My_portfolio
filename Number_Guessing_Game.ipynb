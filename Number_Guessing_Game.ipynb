{
  "nbformat": 4,
  "nbformat_minor": 0,
  "metadata": {
    "colab": {
      "provenance": [],
      "authorship_tag": "ABX9TyOGA38NbVzFvnMox4sceJl2",
      "include_colab_link": true
    },
    "kernelspec": {
      "name": "python3",
      "display_name": "Python 3"
    },
    "language_info": {
      "name": "python"
    }
  },
  "cells": [
    {
      "cell_type": "markdown",
      "metadata": {
        "id": "view-in-github",
        "colab_type": "text"
      },
      "source": [
        "<a href=\"https://colab.research.google.com/github/CH-HARSHITHAmax/My_portfolio/blob/main/Number_Guessing_Game.ipynb\" target=\"_parent\"><img src=\"https://colab.research.google.com/assets/colab-badge.svg\" alt=\"Open In Colab\"/></a>"
      ]
    },
    {
      "cell_type": "code",
      "execution_count": null,
      "metadata": {
        "colab": {
          "base_uri": "https://localhost:8080/"
        },
        "id": "9BQtnvFUsNed",
        "outputId": "630b0856-47ef-45dd-a3e0-c220110656a8"
      },
      "outputs": [
        {
          "output_type": "stream",
          "name": "stdout",
          "text": [
            "Choose a difficulty level:\n",
            "1. Easy (1-50)\n",
            "2. Medium (1-100)\n",
            "3. Hard (1-500)\n",
            "Enter your choice: 1\n",
            "Welcome to the Number Guessing Game!\n",
            "I have selected a number between 1 and 38. Can you guess it?\n",
            "Enter your guess: 5\n",
            "Too low! Try again.\n",
            "Enter your guess: 50\n",
            "Too high! Try again.\n",
            "Enter your guess: 25\n",
            "Too low! Try again.\n",
            "Enter your guess: 35\n",
            "Too low! Try again.\n",
            "Enter your guess: 30\n",
            "Too low! Try again.\n",
            "Enter your guess: 45\n",
            "Too high! Try again.\n",
            "Enter your guess: 40\n",
            "Too high! Try again.\n",
            "Enter your guess: 36\n",
            "Too low! Try again.\n",
            "Enter your guess: 37\n",
            "Too low! Try again.\n",
            "Enter your guess: 38\n",
            "Congratulations! You guessed it in 10 attempts!\n",
            "Do you want to play again? (yes/no): no\n",
            "Thanks for playing! Goodbye!\n"
          ]
        }
      ],
      "source": [
        "import random\n",
        "\n",
        "def number_guessing_game():\n",
        "    # Let the player choose a difficulty level\n",
        "    print(\"Choose a difficulty level:\")\n",
        "    print(\"1. Easy (1-50)\")\n",
        "    print(\"2. Medium (1-100)\")\n",
        "    print(\"3. Hard (1-500)\")\n",
        "    choice = int(input(\"Enter your choice: \"))\n",
        "    if choice == 1:\n",
        "        secret_number = random.randint(1, 50)\n",
        "    elif choice == 2:\n",
        "        secret_number = random.randint(1, 100)\n",
        "    elif choice == 3:\n",
        "        secret_number = random.randint(1, 500)\n",
        "    else:\n",
        "        secret_number = random.randint(1, 100)  # Default to Medium if invalid input\n",
        "\n",
        "    attempts = 0\n",
        "    max_attempts = 10\n",
        "\n",
        "    print(\"Welcome to the Number Guessing Game!\")\n",
        "    print(f\"I have selected a number between 1 and {secret_number}. Can you guess it?\")\n",
        "\n",
        "    while attempts < max_attempts:\n",
        "        try:\n",
        "            guess = int(input(\"Enter your guess: \"))\n",
        "            attempts += 1\n",
        "\n",
        "            if guess < secret_number:\n",
        "                print(\"Too low! Try again.\")\n",
        "            elif guess > secret_number:\n",
        "                print(\"Too high! Try again.\")\n",
        "            else:\n",
        "                print(f\"Congratulations! You guessed it in {attempts} attempts!\")\n",
        "                break\n",
        "        except ValueError:\n",
        "            print(\"Invalid input. Please enter a valid number.\")\n",
        "\n",
        "        if attempts == max_attempts:\n",
        "            print(f\"Sorry, you've used all {max_attempts} attempts. The number was {secret_number}.\")\n",
        "            break\n",
        "\n",
        "def main():\n",
        "    while True:\n",
        "        number_guessing_game()\n",
        "        play_again = input(\"Do you want to play again? (yes/no): \").lower()\n",
        "        if play_again != \"yes\":\n",
        "            print(\"Thanks for playing! Goodbye!\")\n",
        "            break\n",
        "\n",
        "if __name__ == \"__main__\":\n",
        "    main()"
      ]
    }
  ]
}