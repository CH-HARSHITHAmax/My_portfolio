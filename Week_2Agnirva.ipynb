{
  "nbformat": 4,
  "nbformat_minor": 0,
  "metadata": {
    "colab": {
      "provenance": [],
      "authorship_tag": "ABX9TyO+VY6UJ+mzNFKdkgkOKy3Y",
      "include_colab_link": true
    },
    "kernelspec": {
      "name": "python3",
      "display_name": "Python 3"
    },
    "language_info": {
      "name": "python"
    }
  },
  "cells": [
    {
      "cell_type": "markdown",
      "metadata": {
        "id": "view-in-github",
        "colab_type": "text"
      },
      "source": [
        "<a href=\"https://colab.research.google.com/github/CH-HARSHITHAmax/My_portfolio/blob/main/Week_2Agnirva.ipynb\" target=\"_parent\"><img src=\"https://colab.research.google.com/assets/colab-badge.svg\" alt=\"Open In Colab\"/></a>"
      ]
    },
    {
      "cell_type": "code",
      "execution_count": 1,
      "metadata": {
        "colab": {
          "base_uri": "https://localhost:8080/"
        },
        "id": "hqoaZfwkeu4r",
        "outputId": "fb209cdf-f8ae-46e5-962c-57d3fbdd13a7"
      },
      "outputs": [
        {
          "output_type": "stream",
          "name": "stdout",
          "text": [
            "The largest number is: 50\n"
          ]
        }
      ],
      "source": [
        "# Create a list of numbers\n",
        "numbers = [10, 25, 7, 50, 32]\n",
        "\n",
        "# Initialize the largest number as the first element\n",
        "largest = numbers[0]\n",
        "\n",
        "# Loop through the list to find the largest number\n",
        "for num in numbers:\n",
        "    if num > largest:\n",
        "        largest = num\n",
        "\n",
        "# Print the largest number\n",
        "print(\"The largest number is:\", largest)"
      ]
    },
    {
      "cell_type": "code",
      "source": [
        "# Define a list of numbers\n",
        "numbers = [1, 2, 3, 4, 5, 6]\n",
        "\n",
        "# Initialize a counter for even numbers\n",
        "count = 0\n",
        "\n",
        "# Loop through each number in the list\n",
        "for num in numbers:\n",
        "    # Check if the current number is even\n",
        "    if num % 2 == 0:\n",
        "        count += 1  # Increment the count if the number is even\n",
        "\n",
        "# Print the total count of even numbers\n",
        "print(\"Even numbers count:\", count)\n"
      ],
      "metadata": {
        "colab": {
          "base_uri": "https://localhost:8080/"
        },
        "id": "lMOs6m-cfU8Y",
        "outputId": "1474fd8a-2845-4c38-95e8-8adde69d40d6"
      },
      "execution_count": 2,
      "outputs": [
        {
          "output_type": "stream",
          "name": "stdout",
          "text": [
            "Even numbers count: 3\n"
          ]
        }
      ]
    },
    {
      "cell_type": "code",
      "source": [
        "#Part 4: Activity – Combine Sorting and Searching\n",
        "def bubble_sort(arr):\n",
        "    n = len(arr)\n",
        "    for i in range(n):\n",
        "        swapped = False\n",
        "        for j in range(n - i - 1):\n",
        "            if arr[j] > arr[j + 1]:\n",
        "                arr[j], arr[j + 1] = arr[j + 1], arr[j]\n",
        "                swapped = True\n",
        "        if not swapped:\n",
        "            break\n",
        "\n",
        "def binary_search(arr, target):\n",
        "    left = 0\n",
        "    right = len(arr) - 1\n",
        "    while left <= right:\n",
        "        mid = (left + right) // 2\n",
        "        if arr[mid] == target:\n",
        "            return mid\n",
        "        elif arr[mid] < target:\n",
        "            left = mid + 1\n",
        "        else:\n",
        "            right = mid - 1\n",
        "    return -1\n",
        "\n",
        "# Input\n",
        "numbers = list(map(int, input(\"Enter numbers separated by spaces: \").split()))\n",
        "target = int(input(\"Enter the target number: \"))\n",
        "\n",
        "# Sort the list\n",
        "bubble_sort(numbers)\n",
        "print(\"Sorted list:\", numbers)\n",
        "\n",
        "# Search for the target\n",
        "result = binary_search(numbers, target)\n",
        "if result != -1:\n",
        "    print(f\"Target {target} found at index {result}\")\n",
        "else:\n",
        "    print(f\"Target {target} not found\")\n",
        "\n"
      ],
      "metadata": {
        "colab": {
          "base_uri": "https://localhost:8080/"
        },
        "id": "vFA9B4aSfgiB",
        "outputId": "f71556a8-9387-45ef-ec60-ceac5c753432"
      },
      "execution_count": 3,
      "outputs": [
        {
          "output_type": "stream",
          "name": "stdout",
          "text": [
            "Enter numbers separated by spaces: 3 4 5 6 7 8 9 2 5\n",
            "Enter the target number: 7\n",
            "Sorted list: [2, 3, 4, 5, 5, 6, 7, 8, 9]\n",
            "Target 7 found at index 6\n"
          ]
        }
      ]
    },
    {
      "cell_type": "code",
      "source": [
        "#compare Sorting Algorithms\n",
        "import time\n",
        "\n",
        "def bubble_sort(arr):\n",
        "    n = len(arr)\n",
        "    for i in range(n):\n",
        "        for j in range(n - i - 1):\n",
        "            if arr[j] > arr[j + 1]:\n",
        "                arr[j], arr[j + 1] = arr[j + 1], arr[j]\n",
        "\n",
        "# Time the bubble sort\n",
        "start_time = time.time()\n",
        "bubble_sort(numbers.copy())  # Use a copy to preserve the original list\n",
        "end_time = time.time()\n",
        "\n",
        "print(\"Bubble Sort Time:\", end_time - start_time)\n",
        "\n",
        "\n",
        "# Time Python's built-in sort\n",
        "start_time = time.time()\n",
        "numbers.sort()\n",
        "end_time = time.time()\n",
        "\n",
        "print(\"Python's Built-In Sort Time:\", end_time - start_time)\n"
      ],
      "metadata": {
        "colab": {
          "base_uri": "https://localhost:8080/"
        },
        "id": "wHsvgwIjgQnB",
        "outputId": "792541e0-956e-42fc-dfea-84276795f45d"
      },
      "execution_count": 5,
      "outputs": [
        {
          "output_type": "stream",
          "name": "stdout",
          "text": [
            "Bubble Sort Time: 0.00010132789611816406\n",
            "Python's Built-In Sort Time: 9.226799011230469e-05\n"
          ]
        }
      ]
    },
    {
      "cell_type": "code",
      "source": [],
      "metadata": {
        "id": "TJC7iToJgrJJ"
      },
      "execution_count": null,
      "outputs": []
    }
  ]
}